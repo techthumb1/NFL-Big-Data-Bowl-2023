{
 "cells": [
  {
   "cell_type": "markdown",
   "metadata": {},
   "source": [
    "## Tips To Make Your Notebook Look Better"
   ]
  },
  {
   "cell_type": "markdown",
   "metadata": {},
   "source": [
    "### <font color='289C4E'>Table of contents<font><a class='anchor' id='top'></a>\n",
    "- [Section 1](#1)\n",
    "- [Section 2](#2)\n",
    "- [Section 3](#3)"
   ]
  },
  {
   "cell_type": "markdown",
   "metadata": {},
   "source": [
    "## Table of Contents\n",
    "\n",
    "1. Add a table of contents\n",
    "2. Add images to make the notebook more attractive\n",
    "3. Add headers that show cell importance\n",
    "4. Use pretty print to display prints\n",
    "5. Use latex to display your formulas\n",
    "6. Change cell background colors\n",
    "7. Use alert blocks\n",
    "8.  Use interactive plots\n",
    "9.  Use CSS styling inside HTML\n",
    "10. Place images strategically\n",
    "11. Embed links to your references\n",
    "12. Insert Youtube videos in your notebook\n",
    "13. Share blocks of code in your markdowns\n",
    "14. Embed gifs in your notebook\n",
    "15. Use Jupyter themes (commmented)\n",
    "16. Use emojis"
   ]
  },
  {
   "cell_type": "code",
   "execution_count": 4,
   "metadata": {},
   "outputs": [
    {
     "ename": "SyntaxError",
     "evalue": "invalid syntax (262582086.py, line 1)",
     "output_type": "error",
     "traceback": [
      "\u001b[0;36m  File \u001b[0;32m\"/var/folders/q3/0g1f31211lbgj741dfjd4r5c0000gn/T/ipykernel_7851/262582086.py\"\u001b[0;36m, line \u001b[0;32m1\u001b[0m\n\u001b[0;31m    <center>\u001b[0m\n\u001b[0m    ^\u001b[0m\n\u001b[0;31mSyntaxError\u001b[0m\u001b[0;31m:\u001b[0m invalid syntax\n"
     ]
    }
   ],
   "source": [
    "<center>\n",
    "<img src=\"family_cv.png\" width=500>\n",
    "</center>"
   ]
  },
  {
   "cell_type": "markdown",
   "metadata": {},
   "source": [
    "%%latex\n",
    "\\begin{align}\n",
    "fraction = \\frac{2}{5} &&  integral = \\int_{a}^{b} x^2 \\,dx && sum = \\sum_{n=1}^{\\infty} 2^{-n} = 1\n",
    "\\end{align"
   ]
  },
  {
   "cell_type": "markdown",
   "metadata": {},
   "source": []
  }
 ],
 "metadata": {
  "kernelspec": {
   "display_name": "Python 3.8.2 ('aa_soc_study-eNeh-2IF')",
   "language": "python",
   "name": "python3"
  },
  "language_info": {
   "codemirror_mode": {
    "name": "ipython",
    "version": 3
   },
   "file_extension": ".py",
   "mimetype": "text/x-python",
   "name": "python",
   "nbconvert_exporter": "python",
   "pygments_lexer": "ipython3",
   "version": "3.8.2"
  },
  "orig_nbformat": 4,
  "vscode": {
   "interpreter": {
    "hash": "745a95eb13fe955fb8b0b388748b1023d9a91c61c390ae68e10f968a95410ff0"
   }
  }
 },
 "nbformat": 4,
 "nbformat_minor": 2
}
